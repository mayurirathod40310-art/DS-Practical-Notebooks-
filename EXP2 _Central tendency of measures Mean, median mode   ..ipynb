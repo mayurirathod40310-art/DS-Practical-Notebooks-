{
 "cells": [
  {
   "cell_type": "markdown",
   "id": "72f6ef6a-dbb0-4cbf-9c8b-20aa51fb6c46",
   "metadata": {},
   "source": [
    " EXP No.: 2"
   ]
  },
  {
   "cell_type": "markdown",
   "id": "f55f3732-fb62-435b-99ef-6a3ce3d4e8bd",
   "metadata": {},
   "source": [
    "Aim : Central tendency of Measures Mean, median and mode .\n"
   ]
  },
  {
   "cell_type": "code",
   "execution_count": 1,
   "id": "688616ab-f148-4083-81ea-6a1994f80458",
   "metadata": {},
   "outputs": [],
   "source": [
    "#Name: Mayuri Rathod\n",
    "#Roll no: 51\n",
    "#subject: ET-1\n",
    "#Sec:C\n",
    "#Date: 01/08/2025"
   ]
  },
  {
   "cell_type": "code",
   "execution_count": 2,
   "id": "d863f6d2-6032-487d-9fb3-17f768e811c6",
   "metadata": {},
   "outputs": [],
   "source": [
    "age=[22,20,22,21,20,22,22,21,22,20,22,21,20,20,21,22,22]"
   ]
  },
  {
   "cell_type": "code",
   "execution_count": 3,
   "id": "22583634-4c79-4cbe-a315-1d768100a205",
   "metadata": {},
   "outputs": [
    {
     "data": {
      "text/plain": [
       "[22, 20, 22, 21, 20, 22, 22, 21, 22, 20, 22, 21, 20, 20, 21, 22, 22]"
      ]
     },
     "execution_count": 3,
     "metadata": {},
     "output_type": "execute_result"
    }
   ],
   "source": [
    "age"
   ]
  },
  {
   "cell_type": "code",
   "execution_count": 4,
   "id": "894413c1-7d0f-46ca-96ec-08e4a854061d",
   "metadata": {},
   "outputs": [
    {
     "name": "stdout",
     "output_type": "stream",
     "text": [
      "[22, 20, 22, 21, 20, 22, 22, 21, 22, 20, 22, 21, 20, 20, 21, 22, 22]\n"
     ]
    }
   ],
   "source": [
    "print(age)"
   ]
  },
  {
   "cell_type": "code",
   "execution_count": 5,
   "id": "b6249add-cad3-46d2-af95-a7296946e52a",
   "metadata": {},
   "outputs": [],
   "source": [
    "import statistics"
   ]
  },
  {
   "cell_type": "code",
   "execution_count": 6,
   "id": "f8bf6807-5ddd-4df3-8d89-c2b7167889f2",
   "metadata": {},
   "outputs": [],
   "source": [
    "a=statistics.mean(age)"
   ]
  },
  {
   "cell_type": "code",
   "execution_count": 7,
   "id": "0df68977-d81c-4938-9fe1-7c48cdff7c43",
   "metadata": {},
   "outputs": [
    {
     "data": {
      "text/plain": [
       "21.176470588235293"
      ]
     },
     "execution_count": 7,
     "metadata": {},
     "output_type": "execute_result"
    }
   ],
   "source": [
    "a"
   ]
  },
  {
   "cell_type": "code",
   "execution_count": 8,
   "id": "44b8bfa9-9061-4ab5-a70f-5f734047dae1",
   "metadata": {},
   "outputs": [],
   "source": [
    "b=statistics.median(age)"
   ]
  },
  {
   "cell_type": "code",
   "execution_count": 9,
   "id": "2822b523-fa12-41de-b39e-9064cbed3258",
   "metadata": {},
   "outputs": [
    {
     "data": {
      "text/plain": [
       "21"
      ]
     },
     "execution_count": 9,
     "metadata": {},
     "output_type": "execute_result"
    }
   ],
   "source": [
    "b"
   ]
  },
  {
   "cell_type": "code",
   "execution_count": 10,
   "id": "4aa119d6-b737-43d2-ad3d-9888bc70be93",
   "metadata": {},
   "outputs": [],
   "source": [
    "c=statistics.mode(age)"
   ]
  },
  {
   "cell_type": "code",
   "execution_count": 11,
   "id": "f0fda939-b4a3-4116-8d25-ac9ba3b064f5",
   "metadata": {},
   "outputs": [
    {
     "data": {
      "text/plain": [
       "22"
      ]
     },
     "execution_count": 11,
     "metadata": {},
     "output_type": "execute_result"
    }
   ],
   "source": [
    "c"
   ]
  },
  {
   "cell_type": "code",
   "execution_count": 12,
   "id": "ff4283f0-63a9-4a9e-aaf8-c64ccca22115",
   "metadata": {},
   "outputs": [],
   "source": [
    "import numpy as np\n",
    "x=np.array([1,2,3,4,5,6,7,2,6,2,1,4,2,2,6])"
   ]
  },
  {
   "cell_type": "code",
   "execution_count": 13,
   "id": "eabde8e1-e68b-42ff-9c7f-4349d3302b04",
   "metadata": {},
   "outputs": [
    {
     "data": {
      "text/plain": [
       "array([1, 2, 3, 4, 5, 6, 7, 2, 6, 2, 1, 4, 2, 2, 6])"
      ]
     },
     "execution_count": 13,
     "metadata": {},
     "output_type": "execute_result"
    }
   ],
   "source": [
    "x"
   ]
  },
  {
   "cell_type": "code",
   "execution_count": 14,
   "id": "0b59f7e2-01b9-45c0-b746-1a02630ca2f8",
   "metadata": {},
   "outputs": [
    {
     "name": "stdout",
     "output_type": "stream",
     "text": [
      "3.533333333333333\n"
     ]
    }
   ],
   "source": [
    "print(np.mean(x))"
   ]
  },
  {
   "cell_type": "code",
   "execution_count": 20,
   "id": "730b9450-b957-4ce7-a09c-85e90983ed48",
   "metadata": {},
   "outputs": [
    {
     "name": "stdout",
     "output_type": "stream",
     "text": [
      "3.0\n"
     ]
    }
   ],
   "source": [
    "print(np.median(x))"
   ]
  },
  {
   "cell_type": "code",
   "execution_count": 22,
   "id": "f701544f-bb12-46a4-bff7-7a674aa7fcae",
   "metadata": {},
   "outputs": [],
   "source": [
    "from scipy import stats"
   ]
  },
  {
   "cell_type": "code",
   "execution_count": 23,
   "id": "e0a96a94-e83f-4574-af5d-fb75871cbefe",
   "metadata": {},
   "outputs": [
    {
     "name": "stdout",
     "output_type": "stream",
     "text": [
      "ModeResult(mode=np.int64(2), count=np.int64(5))\n"
     ]
    }
   ],
   "source": [
    "print(stats.mode(x))"
   ]
  },
  {
   "cell_type": "code",
   "execution_count": 24,
   "id": "d2d47139-f6e6-4c1c-8198-44d0d08ae85d",
   "metadata": {},
   "outputs": [
    {
     "name": "stdout",
     "output_type": "stream",
     "text": [
      "1.9618585292749546\n"
     ]
    }
   ],
   "source": [
    "print(np.std(x))"
   ]
  },
  {
   "cell_type": "code",
   "execution_count": 25,
   "id": "ce5bd57c-39e4-4d5a-83be-363443b9d18d",
   "metadata": {},
   "outputs": [
    {
     "name": "stdout",
     "output_type": "stream",
     "text": [
      "3.8488888888888884\n"
     ]
    }
   ],
   "source": [
    "print(np.var(x))"
   ]
  }
 ],
 "metadata": {
  "kernelspec": {
   "display_name": "Python [conda env:base] *",
   "language": "python",
   "name": "conda-base-py"
  },
  "language_info": {
   "codemirror_mode": {
    "name": "ipython",
    "version": 3
   },
   "file_extension": ".py",
   "mimetype": "text/x-python",
   "name": "python",
   "nbconvert_exporter": "python",
   "pygments_lexer": "ipython3",
   "version": "3.13.5"
  }
 },
 "nbformat": 4,
 "nbformat_minor": 5
}
