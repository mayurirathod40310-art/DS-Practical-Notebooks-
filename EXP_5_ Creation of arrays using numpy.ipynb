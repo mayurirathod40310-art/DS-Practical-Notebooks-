{
 "cells": [
  {
   "cell_type": "markdown",
   "id": "7e0830d2-42a4-49eb-8389-725178581676",
   "metadata": {},
   "source": [
    "EXP 1 "
   ]
  },
  {
   "cell_type": "markdown",
   "id": "9f90e1f3-2549-4737-afe9-19c74b3d92c2",
   "metadata": {},
   "source": [
    "Aim: Creation of arrays using numpy"
   ]
  },
  {
   "cell_type": "code",
   "execution_count": 3,
   "id": "658c1d36-380a-4535-b239-852dd9b215b9",
   "metadata": {},
   "outputs": [],
   "source": [
    "#Name: Mayuri Rathod\n",
    "#Roll no: 51\n",
    "#subject: ET -1\n",
    "#Sec: C\n",
    "#Date: 20/08/2025\n"
   ]
  },
  {
   "cell_type": "code",
   "execution_count": 4,
   "id": "e3fb0bcb-dfb9-4fef-bbd9-46dff3ea8866",
   "metadata": {},
   "outputs": [],
   "source": [
    "import numpy as np"
   ]
  },
  {
   "cell_type": "code",
   "execution_count": 11,
   "id": "a995e02c-d70a-440a-9fb8-36962da26b89",
   "metadata": {},
   "outputs": [],
   "source": [
    "#creating 1D array. (square bracket in round = array)(square bracket=tuple)\n",
    "a1=np.array([60,10,50,10])"
   ]
  },
  {
   "cell_type": "code",
   "execution_count": 12,
   "id": "49da1a48-6eac-4f20-82e4-f746ce451d7e",
   "metadata": {},
   "outputs": [
    {
     "data": {
      "text/plain": [
       "array([60, 10, 50, 10])"
      ]
     },
     "execution_count": 12,
     "metadata": {},
     "output_type": "execute_result"
    }
   ],
   "source": [
    "a1"
   ]
  },
  {
   "cell_type": "code",
   "execution_count": 13,
   "id": "3963353d-c63f-4409-ac5e-7e40c256bb82",
   "metadata": {},
   "outputs": [],
   "source": [
    "#creating 2D array \n",
    "a2 = np.array([[11,22,18,24],[41,35,40,55]])"
   ]
  },
  {
   "cell_type": "code",
   "execution_count": 14,
   "id": "6c02b745-c1e0-4911-b04c-eb370631cac3",
   "metadata": {},
   "outputs": [
    {
     "data": {
      "text/plain": [
       "array([[11, 22, 18, 24],\n",
       "       [41, 35, 40, 55]])"
      ]
     },
     "execution_count": 14,
     "metadata": {},
     "output_type": "execute_result"
    }
   ],
   "source": [
    "a2"
   ]
  },
  {
   "cell_type": "code",
   "execution_count": 15,
   "id": "52fd2789-e6ff-402b-849d-504b5b6655c9",
   "metadata": {},
   "outputs": [
    {
     "name": "stdout",
     "output_type": "stream",
     "text": [
      "[[11 23]\n",
      " [33 45]\n",
      " [67 78]]\n"
     ]
    }
   ],
   "source": [
    "#creating 2D array using matrix\n",
    "a3=np.matrix('11,23;33,45;67,78')\n",
    "print(a3)\n"
   ]
  },
  {
   "cell_type": "code",
   "execution_count": 16,
   "id": "358e7397-e117-4e86-a494-948c583c8202",
   "metadata": {},
   "outputs": [
    {
     "name": "stdout",
     "output_type": "stream",
     "text": [
      "[23 21 23 21 22 23 20 21 21 22 22 20 21 20 20 22 20 20 23 20 23 21 20 20\n",
      " 23]\n"
     ]
    }
   ],
   "source": [
    "# Create array of 25 random integers between 20 and 23 (inclusive)\n",
    "arr = np.random.randint(20, 24, size=25)\n",
    "print(arr)"
   ]
  },
  {
   "cell_type": "code",
   "execution_count": null,
   "id": "7ab288a9-2fd0-46c4-a0f0-45b3effd041a",
   "metadata": {},
   "outputs": [],
   "source": []
  },
  {
   "cell_type": "code",
   "execution_count": null,
   "id": "572081a5-bbeb-47f6-a319-57fe4f38bee1",
   "metadata": {},
   "outputs": [],
   "source": []
  }
 ],
 "metadata": {
  "kernelspec": {
   "display_name": "Python [conda env:base] *",
   "language": "python",
   "name": "conda-base-py"
  },
  "language_info": {
   "codemirror_mode": {
    "name": "ipython",
    "version": 3
   },
   "file_extension": ".py",
   "mimetype": "text/x-python",
   "name": "python",
   "nbconvert_exporter": "python",
   "pygments_lexer": "ipython3",
   "version": "3.13.5"
  }
 },
 "nbformat": 4,
 "nbformat_minor": 5
}
